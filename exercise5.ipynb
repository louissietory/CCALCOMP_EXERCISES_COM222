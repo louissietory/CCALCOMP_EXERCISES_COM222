{
  "cells": [
    {
      "cell_type": "markdown",
      "metadata": {
        "id": "view-in-github",
        "colab_type": "text"
      },
      "source": [
        "<a href=\"https://colab.research.google.com/github/louissietory/CCALCOMP_EXERCISES_COM222/blob/main/exercise5.ipynb\" target=\"_parent\"><img src=\"https://colab.research.google.com/assets/colab-badge.svg\" alt=\"Open In Colab\"/></a>"
      ]
    },
    {
      "cell_type": "markdown",
      "metadata": {
        "id": "-8bYOEC8HOQ4"
      },
      "source": [
        "# Exercise 5\n",
        "\n",
        "Please follow the instructions in each number."
      ]
    },
    {
      "cell_type": "markdown",
      "metadata": {
        "id": "FEPXLUAPHOQ6"
      },
      "source": [
        "### Maximum Subarray\n",
        "Given an array of integers nums, find the subarray with the largest sum and return the sum.\n",
        "\n",
        "A subarray is a contiguous non-empty sequence of elements within an array.\n",
        "\n",
        "\n",
        "\n",
        "Example 1:\n",
        "\n",
        "Input: nums = [2,-3,4,-2,2,1,-1,4]\n",
        "\n",
        "Output: 8\n",
        "\n",
        "Explanation: The subarray [4,-2,2,1,-1,4] has the largest sum 8."
      ]
    },
    {
      "cell_type": "markdown",
      "metadata": {
        "id": "D4a-4yS4HOQ7"
      },
      "source": [
        "## Tasks"
      ]
    },
    {
      "cell_type": "markdown",
      "metadata": {
        "id": "v8mlE6kYHOQ7"
      },
      "source": [
        "1. Put your student number in a list and manually compute the maximum subarray in your student number (`10 points`)"
      ]
    },
    {
      "cell_type": "code",
      "execution_count": null,
      "metadata": {
        "vscode": {
          "languageId": "plaintext"
        },
        "id": "YJMIVpuTHOQ8",
        "colab": {
          "base_uri": "https://localhost:8080/"
        },
        "outputId": "b139f74f-f330-479c-8781-4f46ec2467a0"
      },
      "outputs": [
        {
          "output_type": "stream",
          "name": "stdout",
          "text": [
            "The maximum subarray for the student number: [2,0,2,2,1,0,6,8,8,4] is 33\n"
          ]
        }
      ],
      "source": [
        "print(\"The maximum subarray for the student number: [2,0,2,2,1,0,6,8,8,4] is 33\")"
      ]
    },
    {
      "cell_type": "markdown",
      "metadata": {
        "id": "nchQgI2KHOQ8"
      },
      "source": [
        "2. Write a program using a brute-force approach to get the maximum-subarray of your student number (`40 points`)"
      ]
    },
    {
      "cell_type": "code",
      "execution_count": null,
      "metadata": {
        "vscode": {
          "languageId": "plaintext"
        },
        "id": "b9P6oe11HOQ9",
        "colab": {
          "base_uri": "https://localhost:8080/"
        },
        "outputId": "997b5015-46f6-4cce-8007-819d2f5d2e64"
      },
      "outputs": [
        {
          "output_type": "stream",
          "name": "stdout",
          "text": [
            "The maximum subarray for student number: [2, 0, 2, 2, 1, 0, 6, 8, 8, 4] is 33\n"
          ]
        }
      ],
      "source": [
        "def max_subarray_brute_force(nums):\n",
        "    n = len(nums)\n",
        "    if n == 0:\n",
        "        return 0\n",
        "\n",
        "    max_sum = float('-inf')\n",
        "    start = end = 0\n",
        "\n",
        "    for i in range(n):\n",
        "        current_sum = 0\n",
        "        for j in range(i, n):\n",
        "            current_sum += nums[j]\n",
        "            if current_sum > max_sum:\n",
        "                max_sum = current_sum\n",
        "                start = i\n",
        "                end = j\n",
        "\n",
        "    return max_sum, start, end\n",
        "\n",
        "student_number = [2, 0, 2, 2, 1, 0, 6, 8, 8, 4]\n",
        "max_sum, start, end = max_subarray_brute_force(student_number)\n",
        "\n",
        "print(\"The maximum subarray for student number:\", student_number, \"is\",  max_sum)"
      ]
    },
    {
      "cell_type": "markdown",
      "metadata": {
        "id": "NkqAxIx_HOQ9"
      },
      "source": [
        "3. Write a program using a dynamic programming to get the maximum-subarray of your student number (`50 points`)"
      ]
    },
    {
      "cell_type": "code",
      "execution_count": null,
      "metadata": {
        "vscode": {
          "languageId": "plaintext"
        },
        "id": "BFBp2ARLHOQ9",
        "colab": {
          "base_uri": "https://localhost:8080/"
        },
        "outputId": "bbd9e43f-c6ef-4441-8b0b-1fe161b78b1b"
      },
      "outputs": [
        {
          "output_type": "stream",
          "name": "stdout",
          "text": [
            "The maximum subarray for student number: [2, 0, 2, 2, 1, 0, 6, 8, 8, 4] is 33\n"
          ]
        }
      ],
      "source": [
        "def max_subarray_dynamic_prog(nums):\n",
        "    n = len(nums)\n",
        "    if n == 0:\n",
        "        return 0\n",
        "\n",
        "    max_ending_here = nums[0]\n",
        "    max_so_far = nums[0]\n",
        "\n",
        "    for i in range(1, n):\n",
        "        max_ending_here = max(nums[i], max_ending_here + nums[i])\n",
        "        max_so_far = max(max_so_far, max_ending_here)\n",
        "\n",
        "    return max_so_far\n",
        "\n",
        "student_number = [2, 0, 2, 2, 1, 0, 6, 8, 8, 4]\n",
        "max_subarray = max_subarray_dynamic_prog(student_number)\n",
        "\n",
        "print(\"The maximum subarray for student number:\",student_number, \"is\", max_subarray)"
      ]
    }
  ],
  "metadata": {
    "colab": {
      "provenance": [],
      "include_colab_link": true
    },
    "kernelspec": {
      "display_name": "base",
      "language": "python",
      "name": "python3"
    },
    "language_info": {
      "codemirror_mode": {
        "name": "ipython",
        "version": 3
      },
      "file_extension": ".py",
      "mimetype": "text/x-python",
      "name": "python",
      "nbconvert_exporter": "python",
      "pygments_lexer": "ipython3",
      "version": "3.9.6"
    }
  },
  "nbformat": 4,
  "nbformat_minor": 0
}